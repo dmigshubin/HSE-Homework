{
 "cells": [
  {
   "cell_type": "markdown",
   "id": "658dbf74-c04f-4a01-94eb-99cb251de753",
   "metadata": {},
   "source": [
    "## Задание 1\n",
    "Напишите код на Python в среде Jupyter Notebook для решения следующей задачи.\n",
    "Дана переменная, в которой хранится четырёхзначное число (год). Необходимо написать\n",
    "программу, которая выведет, является этот год високосным или обычным."
   ]
  },
  {
   "cell_type": "code",
   "execution_count": 10,
   "id": "225f50f7-b5f2-44c1-abdb-90b259d6424e",
   "metadata": {},
   "outputs": [
    {
     "name": "stdout",
     "output_type": "stream",
     "text": [
      "Високосный год\n"
     ]
    }
   ],
   "source": [
    "# год\n",
    "year = 2024\n",
    "\n",
    "# Определяем являяется ли год Високосным\n",
    "if year % 4 == 0:\n",
    "    print('Високосный год')\n",
    "else:\n",
    "    print('Обычный год')"
   ]
  },
  {
   "cell_type": "markdown",
   "id": "09ada242-fb67-41be-a6e8-53d91dce087c",
   "metadata": {},
   "source": [
    "## Задание 2\n",
    "Написать код на Python в среде Jupyter Notebook для решения следующей задачи.\n",
    "Дана переменная, в которой хранится шестизначное число (номер проездного билета).\n",
    "Напишите программу, которая будет определять, является ли этот билет счастливым.\n",
    "Билет считается счастливым, если сумма первых трёх цифр совпадает с суммой\n",
    "последних трёх цифр номера."
   ]
  },
  {
   "cell_type": "code",
   "execution_count": 23,
   "id": "67dae0aa-5152-4674-97f0-06aecf8a7abe",
   "metadata": {},
   "outputs": [
    {
     "name": "stdout",
     "output_type": "stream",
     "text": [
      "Счастливый билет\n"
     ]
    }
   ],
   "source": [
    "number = 123321\n",
    "\n",
    "sum_3_first = 0\n",
    "sum_3_last = 0\n",
    "\n",
    "# проходим по числу и счтаем первые 3 цифры и последние 3\n",
    "for i, num in enumerate(str(number)):\n",
    "    if i < 3:\n",
    "        sum_3_first += int(num)\n",
    "    else:\n",
    "        sum_3_last += int(num)\n",
    "\n",
    "# Проверяем совпадают ли суммы трех чисел\n",
    "if sum_3_first == sum_3_last:\n",
    "    print('Счастливый билет')\n",
    "else:\n",
    "    print('Обычный билет')"
   ]
  },
  {
   "cell_type": "code",
   "execution_count": null,
   "id": "2baa2bca-e97e-4703-9abc-7b49b57abf13",
   "metadata": {},
   "outputs": [],
   "source": []
  }
 ],
 "metadata": {
  "kernelspec": {
   "display_name": "Python [conda env:base] *",
   "language": "python",
   "name": "conda-base-py"
  },
  "language_info": {
   "codemirror_mode": {
    "name": "ipython",
    "version": 3
   },
   "file_extension": ".py",
   "mimetype": "text/x-python",
   "name": "python",
   "nbconvert_exporter": "python",
   "pygments_lexer": "ipython3",
   "version": "3.12.7"
  }
 },
 "nbformat": 4,
 "nbformat_minor": 5
}
